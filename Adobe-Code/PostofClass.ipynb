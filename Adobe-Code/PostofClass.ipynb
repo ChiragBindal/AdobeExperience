{
  "nbformat": 4,
  "nbformat_minor": 0,
  "metadata": {
    "colab": {
      "provenance": []
    },
    "kernelspec": {
      "name": "python3",
      "display_name": "Python 3"
    },
    "language_info": {
      "name": "python"
    }
  },
  "cells": [
    {
      "cell_type": "code",
      "execution_count": null,
      "metadata": {
        "id": "wyj_xQZms4aZ"
      },
      "outputs": [],
      "source": [
        "import pandas as pd\n",
        "from sklearn.model_selection import train_test_split\n",
        "from sklearn.feature_extraction.text import TfidfVectorizer\n",
        "from sklearn.svm import LinearSVC\n",
        "import numpy as np"
      ]
    },
    {
      "cell_type": "code",
      "source": [
        "average=pd.read_csv('final_with_class_average.csv')"
      ],
      "metadata": {
        "id": "spxju3u3yEg0"
      },
      "execution_count": null,
      "outputs": []
    },
    {
      "cell_type": "code",
      "source": [
        "average.head(2)"
      ],
      "metadata": {
        "colab": {
          "base_uri": "https://localhost:8080/",
          "height": 112
        },
        "id": "EdwBQUAOywhL",
        "outputId": "9d546e71-febb-402f-a4c5-e976393db5a3"
      },
      "execution_count": null,
      "outputs": [
        {
          "output_type": "execute_result",
          "data": {
            "text/plain": [
              "   Index    Classification Postclass  FolderImage  FolderName  ImageName  \\\n",
              "0      1  Clothing & Shoes   TextAds          1.1           1          1   \n",
              "1      2  Clothing & Shoes   TextAds          1.2           1          2   \n",
              "\n",
              "    Ratings   Average                                              Texts  \n",
              "0  1.908333  2.133333  blue shoe free shipping exchange return blue s...  \n",
              "1  2.650000       NaN  shoe sale zappos zapposcom wwwzapposcomshoesal...  "
            ],
            "text/html": [
              "\n",
              "  <div id=\"df-eb8f7d71-8b3d-4ba6-9a4a-e8c68d118bcc\">\n",
              "    <div class=\"colab-df-container\">\n",
              "      <div>\n",
              "<style scoped>\n",
              "    .dataframe tbody tr th:only-of-type {\n",
              "        vertical-align: middle;\n",
              "    }\n",
              "\n",
              "    .dataframe tbody tr th {\n",
              "        vertical-align: top;\n",
              "    }\n",
              "\n",
              "    .dataframe thead th {\n",
              "        text-align: right;\n",
              "    }\n",
              "</style>\n",
              "<table border=\"1\" class=\"dataframe\">\n",
              "  <thead>\n",
              "    <tr style=\"text-align: right;\">\n",
              "      <th></th>\n",
              "      <th>Index</th>\n",
              "      <th>Classification</th>\n",
              "      <th>Postclass</th>\n",
              "      <th>FolderImage</th>\n",
              "      <th>FolderName</th>\n",
              "      <th>ImageName</th>\n",
              "      <th>Ratings</th>\n",
              "      <th>Average</th>\n",
              "      <th>Texts</th>\n",
              "    </tr>\n",
              "  </thead>\n",
              "  <tbody>\n",
              "    <tr>\n",
              "      <th>0</th>\n",
              "      <td>1</td>\n",
              "      <td>Clothing &amp; Shoes</td>\n",
              "      <td>TextAds</td>\n",
              "      <td>1.1</td>\n",
              "      <td>1</td>\n",
              "      <td>1</td>\n",
              "      <td>1.908333</td>\n",
              "      <td>2.133333</td>\n",
              "      <td>blue shoe free shipping exchange return blue s...</td>\n",
              "    </tr>\n",
              "    <tr>\n",
              "      <th>1</th>\n",
              "      <td>2</td>\n",
              "      <td>Clothing &amp; Shoes</td>\n",
              "      <td>TextAds</td>\n",
              "      <td>1.2</td>\n",
              "      <td>1</td>\n",
              "      <td>2</td>\n",
              "      <td>2.650000</td>\n",
              "      <td>NaN</td>\n",
              "      <td>shoe sale zappos zapposcom wwwzapposcomshoesal...</td>\n",
              "    </tr>\n",
              "  </tbody>\n",
              "</table>\n",
              "</div>\n",
              "      <button class=\"colab-df-convert\" onclick=\"convertToInteractive('df-eb8f7d71-8b3d-4ba6-9a4a-e8c68d118bcc')\"\n",
              "              title=\"Convert this dataframe to an interactive table.\"\n",
              "              style=\"display:none;\">\n",
              "        \n",
              "  <svg xmlns=\"http://www.w3.org/2000/svg\" height=\"24px\"viewBox=\"0 0 24 24\"\n",
              "       width=\"24px\">\n",
              "    <path d=\"M0 0h24v24H0V0z\" fill=\"none\"/>\n",
              "    <path d=\"M18.56 5.44l.94 2.06.94-2.06 2.06-.94-2.06-.94-.94-2.06-.94 2.06-2.06.94zm-11 1L8.5 8.5l.94-2.06 2.06-.94-2.06-.94L8.5 2.5l-.94 2.06-2.06.94zm10 10l.94 2.06.94-2.06 2.06-.94-2.06-.94-.94-2.06-.94 2.06-2.06.94z\"/><path d=\"M17.41 7.96l-1.37-1.37c-.4-.4-.92-.59-1.43-.59-.52 0-1.04.2-1.43.59L10.3 9.45l-7.72 7.72c-.78.78-.78 2.05 0 2.83L4 21.41c.39.39.9.59 1.41.59.51 0 1.02-.2 1.41-.59l7.78-7.78 2.81-2.81c.8-.78.8-2.07 0-2.86zM5.41 20L4 18.59l7.72-7.72 1.47 1.35L5.41 20z\"/>\n",
              "  </svg>\n",
              "      </button>\n",
              "      \n",
              "  <style>\n",
              "    .colab-df-container {\n",
              "      display:flex;\n",
              "      flex-wrap:wrap;\n",
              "      gap: 12px;\n",
              "    }\n",
              "\n",
              "    .colab-df-convert {\n",
              "      background-color: #E8F0FE;\n",
              "      border: none;\n",
              "      border-radius: 50%;\n",
              "      cursor: pointer;\n",
              "      display: none;\n",
              "      fill: #1967D2;\n",
              "      height: 32px;\n",
              "      padding: 0 0 0 0;\n",
              "      width: 32px;\n",
              "    }\n",
              "\n",
              "    .colab-df-convert:hover {\n",
              "      background-color: #E2EBFA;\n",
              "      box-shadow: 0px 1px 2px rgba(60, 64, 67, 0.3), 0px 1px 3px 1px rgba(60, 64, 67, 0.15);\n",
              "      fill: #174EA6;\n",
              "    }\n",
              "\n",
              "    [theme=dark] .colab-df-convert {\n",
              "      background-color: #3B4455;\n",
              "      fill: #D2E3FC;\n",
              "    }\n",
              "\n",
              "    [theme=dark] .colab-df-convert:hover {\n",
              "      background-color: #434B5C;\n",
              "      box-shadow: 0px 1px 3px 1px rgba(0, 0, 0, 0.15);\n",
              "      filter: drop-shadow(0px 1px 2px rgba(0, 0, 0, 0.3));\n",
              "      fill: #FFFFFF;\n",
              "    }\n",
              "  </style>\n",
              "\n",
              "      <script>\n",
              "        const buttonEl =\n",
              "          document.querySelector('#df-eb8f7d71-8b3d-4ba6-9a4a-e8c68d118bcc button.colab-df-convert');\n",
              "        buttonEl.style.display =\n",
              "          google.colab.kernel.accessAllowed ? 'block' : 'none';\n",
              "\n",
              "        async function convertToInteractive(key) {\n",
              "          const element = document.querySelector('#df-eb8f7d71-8b3d-4ba6-9a4a-e8c68d118bcc');\n",
              "          const dataTable =\n",
              "            await google.colab.kernel.invokeFunction('convertToInteractive',\n",
              "                                                     [key], {});\n",
              "          if (!dataTable) return;\n",
              "\n",
              "          const docLinkHtml = 'Like what you see? Visit the ' +\n",
              "            '<a target=\"_blank\" href=https://colab.research.google.com/notebooks/data_table.ipynb>data table notebook</a>'\n",
              "            + ' to learn more about interactive tables.';\n",
              "          element.innerHTML = '';\n",
              "          dataTable['output_type'] = 'display_data';\n",
              "          await google.colab.output.renderOutput(dataTable, element);\n",
              "          const docLink = document.createElement('div');\n",
              "          docLink.innerHTML = docLinkHtml;\n",
              "          element.appendChild(docLink);\n",
              "        }\n",
              "      </script>\n",
              "    </div>\n",
              "  </div>\n",
              "  "
            ]
          },
          "metadata": {},
          "execution_count": 54
        }
      ]
    },
    {
      "cell_type": "code",
      "source": [
        "Av = average['Average'].values"
      ],
      "metadata": {
        "id": "tSz_2Jacyn3K"
      },
      "execution_count": null,
      "outputs": []
    },
    {
      "cell_type": "code",
      "source": [
        "type(Av)"
      ],
      "metadata": {
        "colab": {
          "base_uri": "https://localhost:8080/"
        },
        "id": "8gz5WdrIz92d",
        "outputId": "1104df0c-8d3c-416f-df1a-870e4926ec9c"
      },
      "execution_count": null,
      "outputs": [
        {
          "output_type": "execute_result",
          "data": {
            "text/plain": [
              "numpy.ndarray"
            ]
          },
          "metadata": {},
          "execution_count": 56
        }
      ]
    },
    {
      "cell_type": "code",
      "source": [
        "print(Av)"
      ],
      "metadata": {
        "colab": {
          "base_uri": "https://localhost:8080/"
        },
        "id": "BFnQfB5zy6nI",
        "outputId": "63a41739-b7b6-4dc0-d862-1836bd9c0f10"
      },
      "execution_count": null,
      "outputs": [
        {
          "output_type": "stream",
          "name": "stdout",
          "text": [
            "[2.13333333        nan        nan        nan        nan 2.075\n",
            "        nan        nan        nan        nan 2.07333333        nan\n",
            "        nan        nan        nan 1.82              nan        nan\n",
            "        nan        nan 1.69              nan        nan        nan\n",
            "        nan 1.65333333        nan        nan        nan        nan\n",
            " 1.49833333        nan        nan        nan        nan 1.60666667\n",
            "        nan        nan        nan        nan 1.61666667        nan\n",
            "        nan        nan        nan 1.895             nan        nan\n",
            "        nan        nan 2.12833333        nan        nan        nan\n",
            "        nan 2.055             nan        nan        nan        nan\n",
            " 2.235             nan        nan        nan        nan 1.975\n",
            "        nan        nan        nan        nan 2.36333333        nan\n",
            "        nan        nan        nan 2.02333333        nan        nan\n",
            "        nan        nan 2.24666667        nan        nan        nan\n",
            "        nan 2.62166667        nan        nan        nan        nan\n",
            " 2.05666667        nan        nan        nan        nan 2.01833333\n",
            "        nan        nan        nan        nan 2.12833333        nan\n",
            "        nan        nan        nan 1.765             nan        nan\n",
            "        nan        nan 1.675             nan        nan        nan\n",
            "        nan 1.69666667        nan        nan        nan        nan\n",
            " 2.02833333        nan        nan        nan        nan 1.89166667\n",
            "        nan        nan        nan        nan 2.05833333        nan\n",
            "        nan        nan        nan 2.11833333        nan        nan\n",
            "        nan        nan 1.89666667        nan        nan        nan\n",
            "        nan 2.39666667        nan        nan        nan        nan]\n"
          ]
        }
      ]
    },
    {
      "cell_type": "code",
      "source": [
        "Av = Av[~np.isnan(Av)]"
      ],
      "metadata": {
        "id": "S7NgqqTUz3SB"
      },
      "execution_count": null,
      "outputs": []
    },
    {
      "cell_type": "code",
      "source": [
        "print(Av)"
      ],
      "metadata": {
        "colab": {
          "base_uri": "https://localhost:8080/"
        },
        "id": "hUzMBXgh0Xf0",
        "outputId": "e6c3d704-cb60-4bb9-abd6-049029df3d3e"
      },
      "execution_count": null,
      "outputs": [
        {
          "output_type": "stream",
          "name": "stdout",
          "text": [
            "[2.13333333 2.075      2.07333333 1.82       1.69       1.65333333\n",
            " 1.49833333 1.60666667 1.61666667 1.895      2.12833333 2.055\n",
            " 2.235      1.975      2.36333333 2.02333333 2.24666667 2.62166667\n",
            " 2.05666667 2.01833333 2.12833333 1.765      1.675      1.69666667\n",
            " 2.02833333 1.89166667 2.05833333 2.11833333 1.89666667 2.39666667]\n"
          ]
        }
      ]
    },
    {
      "cell_type": "code",
      "source": [
        "\n",
        "data = pd.read_csv(\"final_with_class_average.csv\")\n",
        "Classification = data['Classification'].values\n",
        "Postclass = data['Postclass'].values\n",
        "\n",
        "X_train, X_test, y_train, y_test = train_test_split(Classification, Postclass, test_size=0.2, random_state=42)"
      ],
      "metadata": {
        "id": "sojKlt3Zs_Tr"
      },
      "execution_count": null,
      "outputs": []
    },
    {
      "cell_type": "code",
      "source": [
        "print(X_train)\n"
      ],
      "metadata": {
        "colab": {
          "base_uri": "https://localhost:8080/"
        },
        "id": "U934hF26BtPN",
        "outputId": "1c20bc44-a0c9-4024-f53c-04dbd334d6db"
      },
      "execution_count": null,
      "outputs": [
        {
          "output_type": "stream",
          "name": "stdout",
          "text": [
            "['Automotive' 'Automotive' 'Media (BMVD)' 'Clothing & Shoes'\n",
            " 'Baby Products' 'Grocery' 'Health & Beauty' 'Automotive'\n",
            " 'Clothing & Shoes' 'Baby Products' 'Grocery' 'Consumer Electronics'\n",
            " 'Consumer Electronics' 'Automotive' 'Clothing & Shoes'\n",
            " 'Consumer Electronics' 'Garden & Outdoor living' 'Grocery'\n",
            " 'Consumer Electronics' 'DIY & Tools' 'Console & Video Games'\n",
            " 'DIY & Tools' 'Media (BMVD)' 'Clothing & Shoes' 'Garden & Outdoor living'\n",
            " 'Media (BMVD)' 'Automotive' 'Baby Products' 'Baby Products'\n",
            " 'Media (BMVD)' 'Garden & Outdoor living' 'Automotive' 'Automotive'\n",
            " 'Automotive' 'Console & Video Games' 'Baby Products'\n",
            " 'Console & Video Games' 'DIY & Tools' 'Health & Beauty'\n",
            " 'Console & Video Games' 'DIY & Tools' 'Baby Products' 'Grocery'\n",
            " 'Console & Video Games' 'Media (BMVD)' 'Consumer Electronics' 'Grocery'\n",
            " 'Health & Beauty' 'Clothing & Shoes' 'Console & Video Games'\n",
            " 'DIY & Tools' 'Health & Beauty' 'Baby Products' 'Consumer Electronics'\n",
            " 'Consumer Electronics' 'Baby Products' 'DIY & Tools' 'Clothing & Shoes'\n",
            " 'Baby Products' 'Media (BMVD)' 'Console & Video Games'\n",
            " 'Garden & Outdoor living' 'Consumer Electronics'\n",
            " 'Garden & Outdoor living' 'Grocery' 'Consumer Electronics'\n",
            " 'Clothing & Shoes' 'Clothing & Shoes' 'DIY & Tools'\n",
            " 'Garden & Outdoor living' 'Clothing & Shoes' 'Automotive' 'Baby Products'\n",
            " 'Media (BMVD)' 'Grocery' 'Clothing & Shoes' 'DIY & Tools'\n",
            " 'Console & Video Games' 'Clothing & Shoes' 'Media (BMVD)'\n",
            " 'Health & Beauty' 'Garden & Outdoor living' 'Health & Beauty'\n",
            " 'DIY & Tools' 'Health & Beauty' 'Grocery' 'Media (BMVD)' 'Grocery'\n",
            " 'Consumer Electronics' 'Health & Beauty' 'Console & Video Games'\n",
            " 'Baby Products' 'Health & Beauty' 'Console & Video Games'\n",
            " 'Health & Beauty' 'Consumer Electronics' 'DIY & Tools'\n",
            " 'Garden & Outdoor living' 'Automotive' 'Health & Beauty' 'Grocery'\n",
            " 'Garden & Outdoor living' 'Baby Products' 'Grocery' 'Clothing & Shoes'\n",
            " 'Health & Beauty' 'Garden & Outdoor living' 'Console & Video Games'\n",
            " 'Console & Video Games' 'DIY & Tools' 'Consumer Electronics'\n",
            " 'Media (BMVD)' 'Garden & Outdoor living' 'Grocery' 'Automotive'\n",
            " 'Media (BMVD)' 'DIY & Tools' 'Clothing & Shoes' 'Console & Video Games'\n",
            " 'Console & Video Games']\n"
          ]
        }
      ]
    },
    {
      "cell_type": "code",
      "source": [
        "print(X_test)"
      ],
      "metadata": {
        "colab": {
          "base_uri": "https://localhost:8080/"
        },
        "id": "_U36UhWmB5go",
        "outputId": "cd922e64-9c63-4374-ca3d-83df431cd0c4"
      },
      "execution_count": null,
      "outputs": [
        {
          "output_type": "stream",
          "name": "stdout",
          "text": [
            "['Media (BMVD)' 'Automotive' 'DIY & Tools' 'Consumer Electronics'\n",
            " 'Consumer Electronics' 'Baby Products' 'Media (BMVD)' 'Grocery'\n",
            " 'Media (BMVD)' 'Consumer Electronics' 'DIY & Tools' 'Clothing & Shoes'\n",
            " 'Baby Products' 'Clothing & Shoes' 'Automotive' 'Health & Beauty'\n",
            " 'Console & Video Games' 'Media (BMVD)' 'Health & Beauty'\n",
            " 'Garden & Outdoor living' 'Automotive' 'Garden & Outdoor living'\n",
            " 'Automotive' 'Garden & Outdoor living' 'Garden & Outdoor living'\n",
            " 'Grocery' 'DIY & Tools' 'Grocery' 'Health & Beauty' 'Baby Products']\n"
          ]
        }
      ]
    },
    {
      "cell_type": "code",
      "source": [
        "print(y_train)"
      ],
      "metadata": {
        "colab": {
          "base_uri": "https://localhost:8080/"
        },
        "id": "9W_-ejQ9CB90",
        "outputId": "318ac621-4a98-4e57-b5d5-6eb6c50f0425"
      },
      "execution_count": null,
      "outputs": [
        {
          "output_type": "stream",
          "name": "stdout",
          "text": [
            "['ImageAds' 'TextAds' 'ImageAds' 'RichMediaAds' 'RichMediaAds'\n",
            " 'RichMediaAds' 'ImageAds' 'RichMediaAds' 'TextAds' 'TextAds' 'ImageAds'\n",
            " 'RichMediaAds' 'RichMediaAds' 'TextAds' 'RichMediaAds' 'ImageAds'\n",
            " 'RichMediaAds' 'TextAds' 'TextAds' 'TextAds' 'ImageAds' 'TextAds'\n",
            " 'ImageAds' 'TextAds' 'TextAds' 'ImageAds' 'RichMediaAds' 'RichMediaAds'\n",
            " 'RichMediaAds' 'TextAds' 'TextAds' 'ImageAds' 'RichMediaAds' 'ImageAds'\n",
            " 'TextAds' 'ImageAds' 'ImageAds' 'RichMediaAds' 'TextAds' 'ImageAds'\n",
            " 'ImageAds' 'TextAds' 'TextAds' 'RichMediaAds' 'TextAds' 'ImageAds'\n",
            " 'RichMediaAds' 'ImageAds' 'ImageAds' 'TextAds' 'ImageAds' 'TextAds'\n",
            " 'ImageAds' 'ImageAds' 'TextAds' 'TextAds' 'ImageAds' 'ImageAds'\n",
            " 'RichMediaAds' 'RichMediaAds' 'ImageAds' 'TextAds' 'ImageAds'\n",
            " 'RichMediaAds' 'TextAds' 'RichMediaAds' 'ImageAds' 'RichMediaAds'\n",
            " 'RichMediaAds' 'ImageAds' 'TextAds' 'TextAds' 'ImageAds' 'RichMediaAds'\n",
            " 'TextAds' 'ImageAds' 'ImageAds' 'RichMediaAds' 'TextAds' 'TextAds'\n",
            " 'ImageAds' 'ImageAds' 'ImageAds' 'RichMediaAds' 'TextAds' 'TextAds'\n",
            " 'TextAds' 'RichMediaAds' 'TextAds' 'RichMediaAds' 'TextAds'\n",
            " 'RichMediaAds' 'RichMediaAds' 'TextAds' 'TextAds' 'RichMediaAds'\n",
            " 'TextAds' 'TextAds' 'ImageAds' 'RichMediaAds' 'ImageAds' 'ImageAds'\n",
            " 'ImageAds' 'ImageAds' 'TextAds' 'ImageAds' 'RichMediaAds' 'RichMediaAds'\n",
            " 'ImageAds' 'RichMediaAds' 'RichMediaAds' 'RichMediaAds' 'TextAds'\n",
            " 'RichMediaAds' 'ImageAds' 'RichMediaAds' 'TextAds' 'RichMediaAds'\n",
            " 'TextAds' 'RichMediaAds']\n"
          ]
        }
      ]
    },
    {
      "cell_type": "code",
      "source": [
        "\n",
        "vectorizer = TfidfVectorizer()\n",
        "X_train_vec = vectorizer.fit_transform(X_train)\n",
        "X_test_vec = vectorizer.transform(X_test)"
      ],
      "metadata": {
        "id": "rfxoju-6tXtT"
      },
      "execution_count": null,
      "outputs": []
    },
    {
      "cell_type": "code",
      "source": [
        "\n",
        "subcategories = {\n",
        "    \"Clothing & Shoes\":        {\"TextAds\": Av[0], \"ImageAds\": Av[1], \"RichMediaAds\": Av[2]},\n",
        "    \"Automotive\":              {\"TextAds\": Av[3], \"ImageAds\": Av[4], \"RichMediaAds\": Av[5]},\n",
        "    \"Baby Products\":           {\"TextAds\": Av[6], \"ImageAds\": Av[7], \"RichMediaAds\": Av[8]},\n",
        "    \"Health & Beauty\":         {\"TextAds\": Av[9], \"ImageAds\": Av[10], \"RichMediaAds\": Av[11]},\n",
        "    \"Media (BMVD)\":            {\"TextAds\": Av[12], \"ImageAds\": Av[13], \"RichMediaAds\": Av[14]},\n",
        "    \"Consumer Electronics\":    {\"TextAds\": Av[15], \"ImageAds\": Av[16], \"RichMediaAds\": Av[17]},\n",
        "    \"Console & Video Games\":   {\"TextAds\": Av[18], \"ImageAds\": Av[19], \"RichMediaAds\": Av[20]},\n",
        "    \"DIY & Tools\":             {\"TextAds\": Av[21], \"ImageAds\": Av[22], \"RichMediaAds\": Av[23]},\n",
        "    \"Garden & Outdoor living\": {\"TextAds\": Av[24], \"ImageAds\": Av[25], \"RichMediaAds\": Av[26]},\n",
        "    \"Grocery\":                 {\"TextAds\": Av[27], \"ImageAds\": Av[28], \"RichMediaAds\": Av[29]},\n",
        "}\n",
        "clf_sub = {}\n",
        "for class_ in subcategories:\n",
        "    clf_sub[class_] = {}\n",
        "    for category in subcategories[class_]:\n",
        "        y_train_sub = (y_train == category).astype(int)\n",
        "        clf_sub[class_][category] = LinearSVC()\n",
        "        clf_sub[class_][category].fit(X_train_vec, y_train_sub)\n",
        "\n"
      ],
      "metadata": {
        "id": "UMo-odc0s7ds"
      },
      "execution_count": null,
      "outputs": []
    },
    {
      "cell_type": "code",
      "source": [
        "\n",
        "y_pred = []\n",
        "new_X_test=[\"Console & Video Games\"]\n",
        "new_X_test_vec = vectorizer.transform(new_X_test)\n",
        "for i in range(len(new_X_test)):\n",
        "    category_scores = {}\n",
        "    for class_ in subcategories:\n",
        "        for category, value in subcategories[class_].items():\n",
        "            clf = clf_sub[class_][category]\n",
        "            score = clf.decision_function(new_X_test_vec[i, :])[0]\n",
        "            if category not in category_scores:\n",
        "                category_scores[category] = value * score\n",
        "            else:\n",
        "                category_scores[category] += value * score\n",
        "    best_category = max(category_scores, key=category_scores.get)\n",
        "    y_pred.append(best_category)\n"
      ],
      "metadata": {
        "id": "ZnbYAs7qs7kT"
      },
      "execution_count": null,
      "outputs": []
    },
    {
      "cell_type": "code",
      "source": [
        "print(len(y_pred))\n",
        "print(y_pred)\n"
      ],
      "metadata": {
        "colab": {
          "base_uri": "https://localhost:8080/"
        },
        "id": "WadHYAMv13kr",
        "outputId": "9973bdb7-12a7-4a2b-c652-f6bb9fe5d4b3"
      },
      "execution_count": null,
      "outputs": [
        {
          "output_type": "stream",
          "name": "stdout",
          "text": [
            "1\n",
            "['ImageAds']\n"
          ]
        }
      ]
    },
    {
      "cell_type": "code",
      "source": [
        "\n",
        "accuracy = sum(y_test == y_pred) / len(y_test)\n",
        "print(\"Accuracy: {:.2f}%\".format(accuracy * 100))"
      ],
      "metadata": {
        "colab": {
          "base_uri": "https://localhost:8080/"
        },
        "id": "mwurfUT4s7n5",
        "outputId": "61f3b347-4791-48ad-91aa-ddc725bccfc3"
      },
      "execution_count": null,
      "outputs": [
        {
          "output_type": "stream",
          "name": "stdout",
          "text": [
            "Accuracy: 33.33%\n"
          ]
        }
      ]
    }
  ]
}