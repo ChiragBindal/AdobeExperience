{
  "nbformat": 4,
  "nbformat_minor": 0,
  "metadata": {
    "colab": {
      "provenance": []
    },
    "kernelspec": {
      "name": "python3",
      "display_name": "Python 3"
    },
    "language_info": {
      "name": "python"
    }
  },
  "cells": [
    {
      "cell_type": "code",
      "execution_count": null,
      "metadata": {
        "colab": {
          "base_uri": "https://localhost:8080/"
        },
        "id": "tumz-Vc4hiwu",
        "outputId": "27ceb773-4025-42e6-92dd-8fd28b634bbf"
      },
      "outputs": [
        {
          "output_type": "stream",
          "name": "stdout",
          "text": [
            "[94 66 83 95  3]\n"
          ]
        }
      ],
      "source": [
        "import pandas as pd\n",
        "import numpy as np\n",
        "from sklearn.metrics.pairwise import cosine_similarity\n",
        "\n",
        "\n",
        "data = pd.read_csv(\"/content/test1.csv\")\n",
        "data.head()\n",
        "\n",
        "ratings = data.iloc[:, 1:11].values\n",
        "\n",
        "\n",
        "personality_traits = data.iloc[:, 11:-1].apply(pd.to_numeric, errors='coerce').values\n",
        "\n",
        "\n",
        "personality_traits = personality_traits[~np.isnan(personality_traits).any(axis=1)]\n",
        "\n",
        "\n",
        "ratings_norm = ratings / np.linalg.norm(ratings, axis=1)[:, np.newaxis]\n",
        "personality_traits_norm = personality_traits / np.linalg.norm(personality_traits, axis=1)[:, np.newaxis]\n",
        "\n",
        "\n",
        "similarity_ratings = cosine_similarity(ratings_norm)\n",
        "similarity_personality = cosine_similarity(personality_traits_norm)\n",
        "\n",
        "\n",
        "def find_similar_users(user_id, ratings_matrix, personality_matrix, similarity_ratings, similarity_personality, k=5):\n",
        "\n",
        "    sim_scores_ratings = similarity_ratings[user_id]\n",
        "    sim_scores_personality = similarity_personality[user_id]\n",
        "    \n",
        "\n",
        "    weighted_sim_scores = sim_scores_ratings * 0.5 + sim_scores_personality * 0.5\n",
        "    \n",
        "\n",
        "    top_k_users = np.argsort(weighted_sim_scores)[::-1][1:k+1]\n",
        "    \n",
        "    return top_k_users\n",
        "\n",
        "\n",
        "similar_users = find_similar_users(user_id=0, ratings_matrix=ratings_norm, personality_matrix=personality_traits_norm,\n",
        "                                   similarity_ratings=similarity_ratings, similarity_personality=similarity_personality, k=5)\n",
        "print(similar_users)\n"
      ]
    },
    {
      "cell_type": "code",
      "source": [],
      "metadata": {
        "id": "XKdk-EmJ8FA6"
      },
      "execution_count": null,
      "outputs": []
    },
    {
      "cell_type": "code",
      "source": [
        "import numpy as np\n",
        "\n",
        "\n",
        "data = np.genfromtxt('/content/test1.csv', delimiter=',', skip_header=1)\n",
        "\n",
        "\n",
        "ratings = data[:, 1:11]\n",
        "num_categories = ratings.shape[1]\n",
        "\n",
        "\n",
        "preferences = np.array([4, 3, 2, 5, 1, 3, 4, 2, 1, 5]) \n",
        "\n",
        "\n",
        "preferences_norm = preferences / np.linalg.norm(preferences)\n",
        "\n",
        "\n",
        "weighted_ratings = np.sum(ratings * preferences_norm, axis=1)\n",
        "\n",
        "print(weighted_ratings)\n"
      ],
      "metadata": {
        "colab": {
          "base_uri": "https://localhost:8080/"
        },
        "id": "JnQxJQDAihRY",
        "outputId": "073498d3-a610-456f-f808-2a6d6b830c32"
      },
      "execution_count": null,
      "outputs": [
        {
          "output_type": "stream",
          "name": "stdout",
          "text": [
            "[ 3.38161398  3.73757335  9.23587428  3.47696024  5.59364719  9.97321868\n",
            "  4.52576909  9.33122054  5.11055948  4.3096509   7.4370082   4.69739236\n",
            "  4.91351054  3.14642654  7.1064745   6.86493064  5.95596297  3.33076265\n",
            "  4.64654102  4.18887898  6.19115041  6.56617903  3.66129634  5.8923988\n",
            "  3.44517816  5.73984479  7.41158253  3.98547362  4.99614397  8.61930181\n",
            "  5.10420306  8.33961945  3.12735729  3.02565462  5.1169159   3.91555303\n",
            "  4.03632496  5.26946991  5.93689372  4.17616614  5.301252    3.99183004\n",
            "  4.09988913  6.75687155  5.47923168  4.81180787  5.14869798  9.00068684\n",
            "  7.74211622  8.5430248   6.43269427  2.92395194  6.4072686   5.18683649\n",
            "  4.34778941  8.85448925  3.03836745  5.07877739  4.69103594  5.83519105\n",
            "  9.68717991  7.20182076  6.01317073  4.22066106  3.68672201  6.60431753\n",
            " 11.26357139  5.01521322  3.3879704   6.58524828  6.80772289  7.08104883\n",
            "  5.87332955  3.74392977  4.96436188  3.25448564  5.16141082  7.50057237\n",
            "  9.23587428  9.19137936  5.87332955  8.75914299  6.3691301   9.08332027\n",
            "  5.5237266   8.82906358  9.0578946   8.14892693  4.84358995  3.54052441\n",
            "  4.08081988  9.30579487  6.38819935  3.76299902  6.45811994  4.43677925\n",
            "  4.30329449  4.87537204  6.5534662   6.96663332  5.05335172  3.41975249\n",
            "  6.48990202  4.04268138  4.22701748  3.14642654  3.29898056  5.93053731\n",
            "  6.5534662   8.96254834  5.49830093  5.73984479  6.52168411  6.184794\n",
            "  5.47923168  6.5534662   6.27378384  5.57457794  4.6783231   3.17185221]\n"
          ]
        }
      ]
    },
    {
      "cell_type": "code",
      "source": [
        "import numpy as np\n",
        "from sklearn.metrics.pairwise import cosine_similarity\n",
        "\n",
        "# Load the dataset\n",
        "data = np.genfromtxt('/content/test1.csv', delimiter=',', skip_header=1)\n",
        "\n",
        "\n",
        "user_ids = data[:, 0]\n",
        "ratings = data[:, 1:11]\n",
        "personality_traits = data[:, 11:-1]\n",
        "\n",
        "\n",
        "ratings_norm = ratings / np.linalg.norm(ratings, axis=1)[:, np.newaxis]\n",
        "personality_traits_norm = personality_traits / np.linalg.norm(personality_traits, axis=1)[:, np.newaxis]\n",
        "\n",
        "\n",
        "ratings_sim = cosine_similarity(ratings_norm)\n",
        "personality_sim = cosine_similarity(personality_traits_norm)\n",
        "\n",
        "\n",
        "def find_similar_users(user_id, ratings_matrix, similarity_matrix, num_similar_users=5):\n",
        "\n",
        "    user_index = np.where(user_ids == user_id)[0][0]\n",
        "\n",
        "    similarities = similarity_matrix[user_index, :]\n",
        "\n",
        "    similar_users = similarities.argsort()[::-1][1:num_similar_users+1]\n",
        "\n",
        "    return user_ids[similar_users]\n",
        "\n",
        "similar_users = find_similar_users(1, ratings_norm, ratings_sim, num_similar_users=5)\n",
        "print(similar_users)\n",
        "category_names = ['Clothing & Shoes', 'Automotive', 'Baby Products', 'Health & Beauty', 'Media (BMVD)', 'Consumer Electronics', 'Console & Video Games', 'DIY & Tools', 'Garden & Outdoor living', 'Grocery']\n",
        "ratings_df = pd.DataFrame(ratings, columns=category_names, index=user_ids)\n",
        "\n",
        "similar_user_ratings = ratings_df.loc[similar_users]\n",
        "\n",
        "\n",
        "category_ratings = similar_user_ratings.mean()\n",
        "\n",
        "\n",
        "category_ratings_sorted = category_ratings.sort_values(ascending=False)\n",
        "\n",
        "\n",
        "recommended_categories = category_ratings_sorted[:3].index.tolist()\n",
        "print(recommended_categories)\n"
      ],
      "metadata": {
        "colab": {
          "base_uri": "https://localhost:8080/"
        },
        "id": "yF-Iq5qajY1R",
        "outputId": "78d2cfea-abda-48c0-d527-b47d5523785e"
      },
      "execution_count": null,
      "outputs": [
        {
          "output_type": "stream",
          "name": "stdout",
          "text": [
            "[108.  95.  53.  62.  52.]\n",
            "['Consumer Electronics', 'Clothing & Shoes', 'Garden & Outdoor living']\n"
          ]
        }
      ]
    }
  ]
}