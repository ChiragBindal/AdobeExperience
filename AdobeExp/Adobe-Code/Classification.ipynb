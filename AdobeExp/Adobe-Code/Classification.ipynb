{
  "nbformat": 4,
  "nbformat_minor": 0,
  "metadata": {
    "colab": {
      "provenance": []
    },
    "kernelspec": {
      "name": "python3",
      "display_name": "Python 3"
    },
    "language_info": {
      "name": "python"
    }
  },
  "cells": [
    {
      "cell_type": "code",
      "execution_count": null,
      "metadata": {
        "id": "-_lvOhn-XbHL"
      },
      "outputs": [],
      "source": [
        "\n",
        "from sklearn.feature_extraction.text import TfidfVectorizer\n",
        "from sklearn.model_selection import train_test_split\n",
        "from sklearn.svm import LinearSVC"
      ]
    },
    {
      "cell_type": "code",
      "source": [
        "import pandas as pd\n",
        "data = pd.read_csv('final_with_class_average.csv')"
      ],
      "metadata": {
        "id": "wt-NqKsyXpBi"
      },
      "execution_count": null,
      "outputs": []
    },
    {
      "cell_type": "code",
      "source": [
        "data.head(2)\n"
      ],
      "metadata": {
        "colab": {
          "base_uri": "https://localhost:8080/",
          "height": 112
        },
        "id": "7gL2q7EGcFkM",
        "outputId": "bc768034-d9f4-4764-86bd-657d956914ac"
      },
      "execution_count": null,
      "outputs": [
        {
          "output_type": "execute_result",
          "data": {
            "text/plain": [
              "   Index    Classification Postclass  FolderImage  FolderName  ImageName  \\\n",
              "0      1  Clothing & Shoes   TextAds          1.1           1          1   \n",
              "1      2  Clothing & Shoes   TextAds          1.2           1          2   \n",
              "\n",
              "    Ratings   Average                                              Texts  \n",
              "0  1.908333  2.133333  blue shoe free shipping exchange return blue s...  \n",
              "1  2.650000       NaN  shoe sale zappos zapposcom wwwzapposcomshoesal...  "
            ],
            "text/html": [
              "\n",
              "  <div id=\"df-daacabde-6456-4ff3-af67-633c6b776116\">\n",
              "    <div class=\"colab-df-container\">\n",
              "      <div>\n",
              "<style scoped>\n",
              "    .dataframe tbody tr th:only-of-type {\n",
              "        vertical-align: middle;\n",
              "    }\n",
              "\n",
              "    .dataframe tbody tr th {\n",
              "        vertical-align: top;\n",
              "    }\n",
              "\n",
              "    .dataframe thead th {\n",
              "        text-align: right;\n",
              "    }\n",
              "</style>\n",
              "<table border=\"1\" class=\"dataframe\">\n",
              "  <thead>\n",
              "    <tr style=\"text-align: right;\">\n",
              "      <th></th>\n",
              "      <th>Index</th>\n",
              "      <th>Classification</th>\n",
              "      <th>Postclass</th>\n",
              "      <th>FolderImage</th>\n",
              "      <th>FolderName</th>\n",
              "      <th>ImageName</th>\n",
              "      <th>Ratings</th>\n",
              "      <th>Average</th>\n",
              "      <th>Texts</th>\n",
              "    </tr>\n",
              "  </thead>\n",
              "  <tbody>\n",
              "    <tr>\n",
              "      <th>0</th>\n",
              "      <td>1</td>\n",
              "      <td>Clothing &amp; Shoes</td>\n",
              "      <td>TextAds</td>\n",
              "      <td>1.1</td>\n",
              "      <td>1</td>\n",
              "      <td>1</td>\n",
              "      <td>1.908333</td>\n",
              "      <td>2.133333</td>\n",
              "      <td>blue shoe free shipping exchange return blue s...</td>\n",
              "    </tr>\n",
              "    <tr>\n",
              "      <th>1</th>\n",
              "      <td>2</td>\n",
              "      <td>Clothing &amp; Shoes</td>\n",
              "      <td>TextAds</td>\n",
              "      <td>1.2</td>\n",
              "      <td>1</td>\n",
              "      <td>2</td>\n",
              "      <td>2.650000</td>\n",
              "      <td>NaN</td>\n",
              "      <td>shoe sale zappos zapposcom wwwzapposcomshoesal...</td>\n",
              "    </tr>\n",
              "  </tbody>\n",
              "</table>\n",
              "</div>\n",
              "      <button class=\"colab-df-convert\" onclick=\"convertToInteractive('df-daacabde-6456-4ff3-af67-633c6b776116')\"\n",
              "              title=\"Convert this dataframe to an interactive table.\"\n",
              "              style=\"display:none;\">\n",
              "        \n",
              "  <svg xmlns=\"http://www.w3.org/2000/svg\" height=\"24px\"viewBox=\"0 0 24 24\"\n",
              "       width=\"24px\">\n",
              "    <path d=\"M0 0h24v24H0V0z\" fill=\"none\"/>\n",
              "    <path d=\"M18.56 5.44l.94 2.06.94-2.06 2.06-.94-2.06-.94-.94-2.06-.94 2.06-2.06.94zm-11 1L8.5 8.5l.94-2.06 2.06-.94-2.06-.94L8.5 2.5l-.94 2.06-2.06.94zm10 10l.94 2.06.94-2.06 2.06-.94-2.06-.94-.94-2.06-.94 2.06-2.06.94z\"/><path d=\"M17.41 7.96l-1.37-1.37c-.4-.4-.92-.59-1.43-.59-.52 0-1.04.2-1.43.59L10.3 9.45l-7.72 7.72c-.78.78-.78 2.05 0 2.83L4 21.41c.39.39.9.59 1.41.59.51 0 1.02-.2 1.41-.59l7.78-7.78 2.81-2.81c.8-.78.8-2.07 0-2.86zM5.41 20L4 18.59l7.72-7.72 1.47 1.35L5.41 20z\"/>\n",
              "  </svg>\n",
              "      </button>\n",
              "      \n",
              "  <style>\n",
              "    .colab-df-container {\n",
              "      display:flex;\n",
              "      flex-wrap:wrap;\n",
              "      gap: 12px;\n",
              "    }\n",
              "\n",
              "    .colab-df-convert {\n",
              "      background-color: #E8F0FE;\n",
              "      border: none;\n",
              "      border-radius: 50%;\n",
              "      cursor: pointer;\n",
              "      display: none;\n",
              "      fill: #1967D2;\n",
              "      height: 32px;\n",
              "      padding: 0 0 0 0;\n",
              "      width: 32px;\n",
              "    }\n",
              "\n",
              "    .colab-df-convert:hover {\n",
              "      background-color: #E2EBFA;\n",
              "      box-shadow: 0px 1px 2px rgba(60, 64, 67, 0.3), 0px 1px 3px 1px rgba(60, 64, 67, 0.15);\n",
              "      fill: #174EA6;\n",
              "    }\n",
              "\n",
              "    [theme=dark] .colab-df-convert {\n",
              "      background-color: #3B4455;\n",
              "      fill: #D2E3FC;\n",
              "    }\n",
              "\n",
              "    [theme=dark] .colab-df-convert:hover {\n",
              "      background-color: #434B5C;\n",
              "      box-shadow: 0px 1px 3px 1px rgba(0, 0, 0, 0.15);\n",
              "      filter: drop-shadow(0px 1px 2px rgba(0, 0, 0, 0.3));\n",
              "      fill: #FFFFFF;\n",
              "    }\n",
              "  </style>\n",
              "\n",
              "      <script>\n",
              "        const buttonEl =\n",
              "          document.querySelector('#df-daacabde-6456-4ff3-af67-633c6b776116 button.colab-df-convert');\n",
              "        buttonEl.style.display =\n",
              "          google.colab.kernel.accessAllowed ? 'block' : 'none';\n",
              "\n",
              "        async function convertToInteractive(key) {\n",
              "          const element = document.querySelector('#df-daacabde-6456-4ff3-af67-633c6b776116');\n",
              "          const dataTable =\n",
              "            await google.colab.kernel.invokeFunction('convertToInteractive',\n",
              "                                                     [key], {});\n",
              "          if (!dataTable) return;\n",
              "\n",
              "          const docLinkHtml = 'Like what you see? Visit the ' +\n",
              "            '<a target=\"_blank\" href=https://colab.research.google.com/notebooks/data_table.ipynb>data table notebook</a>'\n",
              "            + ' to learn more about interactive tables.';\n",
              "          element.innerHTML = '';\n",
              "          dataTable['output_type'] = 'display_data';\n",
              "          await google.colab.output.renderOutput(dataTable, element);\n",
              "          const docLink = document.createElement('div');\n",
              "          docLink.innerHTML = docLinkHtml;\n",
              "          element.appendChild(docLink);\n",
              "        }\n",
              "      </script>\n",
              "    </div>\n",
              "  </div>\n",
              "  "
            ]
          },
          "metadata": {},
          "execution_count": 3
        }
      ]
    },
    {
      "cell_type": "code",
      "source": [
        "data['Texts'] = data['Texts'].astype(str)"
      ],
      "metadata": {
        "id": "c6eXzASGeQtk"
      },
      "execution_count": null,
      "outputs": []
    },
    {
      "cell_type": "code",
      "source": [
        "text_data = data['Texts'].values\n",
        "class_data = data['Classification'].values"
      ],
      "metadata": {
        "id": "2ycvoW7aeWMQ"
      },
      "execution_count": null,
      "outputs": []
    },
    {
      "cell_type": "code",
      "source": [
        "print(text_data)\n",
        "print(class_data)"
      ],
      "metadata": {
        "id": "cKCwsNfCeqTd",
        "colab": {
          "base_uri": "https://localhost:8080/"
        },
        "outputId": "ca7f0cb5-b9a1-47d3-d67e-60d36fb0e5c9"
      },
      "execution_count": null,
      "outputs": [
        {
          "output_type": "stream",
          "name": "stdout",
          "text": [
            "['blue shoe free shipping exchange return blue shoe anesshoescom code blue wwwanesshoescomcolors'\n",
            " 'shoe sale zappos zapposcom wwwzapposcomshoesale x seller review free shipping free day return shoe sale occasion casual dress athletic outdoor office career wedding zapposcom follower google woman shoe kid shoe men shoe running shoe'\n",
            " 'bellroy slim wallet shop slim leather wallet wwwbellroycom year warranty fast shipping slim wallet free fast shipping premium leather gift slim bellroy follower google view collection travel light bellroy customer care slim wallet'\n",
            " 'men designer outerwear coat casual formal jacket www okinicommenswear ok ax rating okinicom shop brand new arrival aw15 free worldwide delivery okini free delivery shop new aw15 arrival'\n",
            " 'glass pair glassesdirectcouk wwwglassesdirectcoukaug_offer tek kek rating glassesdirectcouk complete pair enter code gd19 end speedy delivery free return style online support'\n",
            " 'cute wig wwwsammydresscom'\n",
            " 'free shipping wwwrosegalcom freeshipping fashion top' 'nan'\n",
            " 'see colour option sunglass vintage polarized wayfarer type men woman cheap uk retro fashion designer eyewear sale rivacci prime'\n",
            " 'hm leather belt black lady hm'\n",
            " 'stay warm style bag shop season outerwear men gi tea eat aaa nautica calvin klein bos tal'\n",
            " 'inue piper' 'nan' 'nan' 'nei'\n",
            " 'cheap cheap car part online wwweurocarpartscomcarparts tek kk rating eurocarpartscom car part online free uk delivery order eurocarparts follower google hidden cost unique part need help contact u'\n",
            " 'automotive accessory wwwebaycouk automotive accessory ebay le find great deal ebay'\n",
            " 'accessory car wwwamazoncoukautomotive find accessory car free uk delivery eligible order'\n",
            " 'cheapest car part online wwweurocarparts part stock rrp free next day nationwide delivery'\n",
            " 'car spare quick easy car part online wwweurocarpartscomcarparts kde ae rating eurocarpartscom free uk delivery order eurocarparts follower google click collect today need help contact u million part stock'\n",
            " 'sponsored car charger eleckeytm 21a dual usb port car charger portable travel charger rapid car charger auto adapter eleckey prime get saturday aug'\n",
            " 'accessotech portable car led light black cigarette ashtray holder smoke accessory auto accessotech delivery'\n",
            " 'option available blackdecker pad1200auto flexi car vacuum12 v blackdecker prime get saturday aug buying choice new offer used offer eligible free uk delivery'\n",
            " 'right shine auto lighting wtf53257436546 illuminated glow led badge light emblem 11cm x 11cm blue right shine auto lighting delivery left stock order soon'\n",
            " 'tlc auto accessory sbp seat belt pad tlc auto accessory prime get saturday aug buying choice new offer eligible free uk delivery'\n",
            " 'jeff got bigger getting smaller announcing jeffs newest franchise today area exclusive fiat dealership fiat iat sart em jolt anibrosio 122a lancaster ave downingtown pa'\n",
            " 'se ee truck auto accessory work play multiple raven location across alberta bc 1866raven4u s608 avenue edeon meee'\n",
            " 'mac accessory ty kenwood omeca hotline po box dsm ene crt mst ean et lure eee er nd cpm itd caesatis co ee ytd aid scp'\n",
            " 'get pay'\n",
            " 'midland renault part bonnet loan bumper pav oav interior nuit bne much unit port hope road birmingham bil 1 tel'\n",
            " 'unique baby bedding wwwzulilycouk unique baby bedding shopnow new event every day apparel home new deal every day nursery furniture decor baby girl clothes stroller diaper bag'\n",
            " 'john lewis baby bedding wwwjohniewiscombabybedding buy baby bedding john lewis free delivery order never knowingly undersold next day click coliect free return best retailer award rating selection delivery service websie9 john lewis follower google'\n",
            " 'baby product frombabieswithloveorg www frombabieswithloveorgbabyproducts buy gorgeous baby clothes profit go baby need free gift bag card free card order profit charity read full story unisex baby clothes contact u'\n",
            " 'newborn essential wwwjohnsonsbabycoukstarterpack baby toiletry wipe changing mat newborn care guide view product advice new mum science safety'\n",
            " 'innovative baby gadget baby toddler gadget wwwgadgetbabycouk free delivery order sleeping gadget feeding gadget travel gadget delivery information'\n",
            " 'chicco next dove grey chicco prime get monday aug buying choice new offer eligible free uk delivery'\n",
            " 'fisherprice rainforest jumperoo fisherprice prime get monday aug buying choice new offer open box offer eligible free uk delivery'\n",
            " 'groclock sleep trainer gro company prime get sunday aug buying choice new offer eligible free uk delivery'\n",
            " 'option available mam fast flow teat 2pack mam prime get sunday aug buying choice new offer eligible free uk delivery'\n",
            " 'britax evolva group combination car seat black thunder britax prime get monday aug buying choice new offer eligible free uk delivery'\n",
            " 'baby deserves best care world' 'ere aean eae ue pmo roe ect een eee'\n",
            " 'nan' 'yoy othing bu formulated scrub clean vesign ecause new ey'\n",
            " 'march ofdimes know lin baby born prematurely support help make difference johnsonswill donate march dime every johnson baby product purchase june july'\n",
            " 'sudocrem care protect wwwsudocremcouk prevention nappy rash triple care protection baby'\n",
            " 'creme de la mer official wwwcremedelamercoukofficial deluxe essential free delivery gift wrap online order'\n",
            " 'beauty protector beauty cream body lotion birchbox www birchboxcomshopbeautyprotectorbeautycreambodylotion oka rating review us1595 rich cream nourishes skin leaving hydrated soft extremely happy say subtly perfumed beauty protector amazing signature scent'\n",
            " 'dove exfoliating beauty cream bar x 100g boot wwwbootscom toiletry washing bathing soap handwash jok rating review stock dove exfoliating beauty cream bar x 100g detailed product info read review buy online eam advantage point dove exfoliating beauty cream bar'\n",
            " 'cade shave balm loccitane en provence united ukloccitanecom collection collection ek kk rating review stock enriched purifying stimulating complex cade essential oil protecting shea butter moisturising vegetablebased glycerine soothing bi'\n",
            " 'gillette mach manual razor blade pack gillette subscribe save get regular delivery item save vprime get sunday aug buying choice new offer eligible free uk delivery'\n",
            " 'scholl velvet smooth diamond pedi electric hard skin remover scholl prime get sunday aug buying choice new offer eligible free uk delivery'\n",
            " 'optimum nutrition gold standard whey g milk chocolate protein shake powder optimum nutrition g prime get monday aug buying choice new offer eligible free uk delivery'\n",
            " 'oralb pro crossaction electric rechargeable toothbrush powered braun oral b left stock order soon buying choice new offer'\n",
            " 'sponsored durex fun mix 6pcs durex delivery'\n",
            " 'advance skincare solution visible result week satisfaction guaranteed'\n",
            " 'pena ny' 'new revion beyond natural'\n",
            " 'ic whitens shade noticeably brighter smile co ye' 'nan'\n",
            " 'cheap dvd blu ray wwwpricehuntercoukshopping cheap cheap dvd blu ray save money dont miss hot deal best price compare compare price comparing'\n",
            " 'buy blu ray dvd sale buybluraydvdidealpricecouk buy blu ray dvd buy blu ray dvd compare save'\n",
            " 'google play music playgooglecommusic v buy new album iconic classic whatever youre youll find'\n",
            " 'buy music wwwmp3vacombuymusic v buy mp3 music per track high quality mp3s fast transfer'\n",
            " 'buy secondhand new antique book oxfams online shop wwwoxfamorgukshop item grab great gift help save life delivery per order free return day oxfam gb follower google secondhand book men clothing woman clothing oxfam unwrapped explained'\n",
            " 'breaking bad complete series starring bryan cranston dvd prime get monday aug buying choice new offer used offer eligible free uk delivery'\n",
            " 'song ice fire volume 12jui george r r martin paperback prime getitby monday aug buying choice used new offer kindle edition available download'\n",
            " 'big hero pg subtitle rent buy film shop instant video best seller net'\n",
            " 'dylan cash nashville cat bob dylan johnny cash mp3 download peter'\n",
            " 'harry potter complete film daniel radcliffe emma watson bluray derererere vbrime'\n",
            " 'amazon prime instant video unlimited streaming movie tv watch anywhere smart tv game console mobile tablet pg bao'\n",
            " 'primemusic enjoy million song free amazon prime listen free day f' 'nan'\n",
            " 'buy book online shop click buy book published aviation medium pee ent visa oe eb ed om'\n",
            " 'try premium day free appears youve already premium user ti tal vai new user youd tke sil upgrade account premium time'\n",
            " 'tv deal aocom wwwa0comappliancesonlinetvs huge tv sale aocom great product unbeatable price day delivery option day fuss return welll price match'\n",
            " 'finest tv lg wwwlgcomuktvs revolutionise tv experience stunning range online'\n",
            " 'inch tablet sale wwwtabletsworldcomsale 12ghz 4cpu android tablet pc 48gb hot deal sale buy'\n",
            " 'smartphone offer carphonewarehousecommegadeals v tek ke advertiser rating get super mega personalised deal carphone warehouse buy'\n",
            " 'nikon camera argo wwwargoscouknikoncameras save selected camera grab new argo catalogue today camera case bag camera lens argo argo nikon camera'\n",
            " 'samsung series ultra high definition led tv samue85s9stxxu selfridges'\n",
            " 'amazon' 'apple pad air wii64gbsiver md790ba apple new offer used offer'\n",
            " 'ny oar samsung ue32j5100 full hd 1080p 32inch led tv model samsung left stock order soon buying choice new offer'\n",
            " 'option available voyager inch twin screen car portable dvd player easy fit mount feb music man prime buying choice new offer used offer eligible free uk delivery'\n",
            " 'pereeseccleetone tablet computer gnu unr aeon' 'fererd bara'\n",
            " 'samsung galaxy s6 s6 edge next' 'nan'\n",
            " 'div samsung er perfectly curved best viewing'\n",
            " 'playstation video game amazoncouk amazoncoukplaystation4videotgames playstation video game free uk delivery eligible order'\n",
            " 'gamestopcouk world leading specialist game httpswwwgamestopcouk buy latest game including xbox game ps title wii software d 3d cartridge pc game mobile toy based game headset top video playstation xbox one login playstation accessory'\n",
            " 'nintendo wii game wwwargoscoukwii_games wii game available argo order delivery want argo follower google'\n",
            " 'sony psp video game ebay www ebaycoukschsonypspvideogames139973bnihtml find great deal ebay sony psp video game video game shop confidence'\n",
            " 'buy call duty ghost xbox game wwwtescocom gaming game game jekdok rating review buy call duty ghost xbox game range tesco direct stock great range product everyday price clubcard point every'\n",
            " 'ssins sbn black fl assassin creed iv cdkeyscom'\n",
            " 'eee eau call duty black ops iii ps4 activision playstation vprime'\n",
            " 'legend zelda wind waker hd nintendo nintendo wii u pevictere yc prime'\n",
            " 'ps4 console batman arkham knight sony playstation'\n",
            " 'xbox one console halo microsoft xbox one vere used new' 'aa pe besa'\n",
            " 'nan' 'nan' 'sree aera released bla'\n",
            " 'buy xbox one eqoe choose game free f rag e p en'\n",
            " 'diy tool builder tool builderstoolscom www_builderstoolscom wide range diy builder tool starter kit diy beginner toplevel equipment seasoned tradesman'\n",
            " 'shop hand tool amazon wwwamazoncoukshophandtools low price shop hand tool free uk delivery eligible order rating price selection service website today deal warehouse deal prime instant video gift card'\n",
            " 'container paint plastic bucket pail pot tub www ibottlescoukpails quick delivery buy online free delivery offer uk order product special offer'\n",
            " 'buy paint brush uk wwwdecoratingdirectcouk teak ke advertiser rating buy decorator paint brush tool online low price'\n",
            " 'hydraulic tool webshop wwwhydraforeeu wide selection bar tool fast delivery germany'\n",
            " 'ee lpl everbuild jetcem6 jetcem rapid set cement 6kg single everbuild delivery buying choice new offer'\n",
            " 'insulation tape pvc electrica19mmx 20m black x et lumiere buying choice new offer bale si8s0am household insulation accessory'\n",
            " 'work expert wall storage shelf unit plastic hook board mounting hook rack work expert delivery ba salam construction board'\n",
            " 'ee x 40mm masonary nail pack masonry celtic wood buying choice new offer'\n",
            " 'aw lg harris 9inch easy reach roller harris prime get monday aug buying choice new offer eligible free uk delivery pea paint roller'\n",
            " 'get dad tool need father day' 'et ne eae dee ml sau'\n",
            " 'part world iil wwwramcotoolscom f tamco' 'nan'\n",
            " 'kobalt hand tool online price reflects discount supply last'\n",
            " 'warehouse clearance wwwsignaturehomesandgardenscouk garden furniture water feature limited stock amazing price'\n",
            " 'outdoor plant wwwxxlsalecoukoutdoorplants never outdoor plant sale outdoor plant super cheap'\n",
            " 'plant seed sale living organic lifestyle wwwkgiorg help u grow healthier world kitchen gardener international follower google kitchen gardening kgi world kitchen garden day'\n",
            " 'seed amazon amazon wwwamazoncoukgarden_and_outdoor save seed amazon free uk delivery eligible order'\n",
            " 'plant sale rh plant wwwrhsplantscoukrhsplantsale plant sale plant sale buxus sempervirens plant lavandula angustifolia hidcote plant'\n",
            " 'pack x6 english lavender angustifolia hidcote perennial garden plug plant plugplantsnet delivery buying choice new offer'\n",
            " 'sb plant invigorator 500ml stan bourard buying choice new offer'\n",
            " 'vegetable bulb seed direct delivery buying choice new offer'\n",
            " 'keter eden bench box keter prime get tuesday aug buying choice new offer eligible free uk delivery'\n",
            " 'flexible expandable hose pipe light weight non kink water spray nozzle blue ft generic buying choice new offer'\n",
            " 'massive b27 weary 1000 plant r ai fe' 'summer sale selected rose m7 ce'\n",
            " 'big pe ein ca java tale' 'imited time' 'nan'\n",
            " 'alcohol online amazon low price alcohol online wwwamazoncoukaleoholonline free uk delivery eligible order join amazon family subscribe save today'\n",
            " 'freshly brewed coffee eg cafeexamplebusinesscom always perfectly brewed coffee perfect way start day'\n",
            " 'wholesale spice online quality ingredient direct www justingredientscouktrade dedede ke rating justingredientscouk packed fresh fast delivery'\n",
            " 'tesco grocery month free delivery saver trial wwwtescocomgroceries sign free delivery price promise delivery freshness guaranteed earn clubcard point britain favourite supermarket grocer gold award find favourite top offer save delivery saver offer'\n",
            " 'snack m wwwmarksandspencercomsnacks shop m delicious food range free collection selected store'\n",
            " 'kettle chip balsamic vinegar sea salt g pack kettle chip g eerie add qualifying order get monday aug eligible free uk delivery'\n",
            " 'meatpacks week supply pack meatpacks g'\n",
            " 'masi levarie soave classico case masi 1423l prime left stock order soon eligible free uk delivery'\n",
            " 'de cecco orecchiette n91 500g de cecco g'\n",
            " 'german beer speciality bottle vol gourmeo24com ml'\n",
            " 'corner london in2h15 bae' 'nan' 'nan'\n",
            " 'real cola taste le sugar next drink ittobelieve' 'big beefy bliss']\n",
            "['Clothing & Shoes' 'Clothing & Shoes' 'Clothing & Shoes'\n",
            " 'Clothing & Shoes' 'Clothing & Shoes' 'Clothing & Shoes'\n",
            " 'Clothing & Shoes' 'Clothing & Shoes' 'Clothing & Shoes'\n",
            " 'Clothing & Shoes' 'Clothing & Shoes' 'Clothing & Shoes'\n",
            " 'Clothing & Shoes' 'Clothing & Shoes' 'Clothing & Shoes' 'Automotive'\n",
            " 'Automotive' 'Automotive' 'Automotive' 'Automotive' 'Automotive'\n",
            " 'Automotive' 'Automotive' 'Automotive' 'Automotive' 'Automotive'\n",
            " 'Automotive' 'Automotive' 'Automotive' 'Automotive' 'Baby Products'\n",
            " 'Baby Products' 'Baby Products' 'Baby Products' 'Baby Products'\n",
            " 'Baby Products' 'Baby Products' 'Baby Products' 'Baby Products'\n",
            " 'Baby Products' 'Baby Products' 'Baby Products' 'Baby Products'\n",
            " 'Baby Products' 'Baby Products' 'Health & Beauty' 'Health & Beauty'\n",
            " 'Health & Beauty' 'Health & Beauty' 'Health & Beauty' 'Health & Beauty'\n",
            " 'Health & Beauty' 'Health & Beauty' 'Health & Beauty' 'Health & Beauty'\n",
            " 'Health & Beauty' 'Health & Beauty' 'Health & Beauty' 'Health & Beauty'\n",
            " 'Health & Beauty' 'Media (BMVD)' 'Media (BMVD)' 'Media (BMVD)'\n",
            " 'Media (BMVD)' 'Media (BMVD)' 'Media (BMVD)' 'Media (BMVD)'\n",
            " 'Media (BMVD)' 'Media (BMVD)' 'Media (BMVD)' 'Media (BMVD)'\n",
            " 'Media (BMVD)' 'Media (BMVD)' 'Media (BMVD)' 'Media (BMVD)'\n",
            " 'Consumer Electronics' 'Consumer Electronics' 'Consumer Electronics'\n",
            " 'Consumer Electronics' 'Consumer Electronics' 'Consumer Electronics'\n",
            " 'Consumer Electronics' 'Consumer Electronics' 'Consumer Electronics'\n",
            " 'Consumer Electronics' 'Consumer Electronics' 'Consumer Electronics'\n",
            " 'Consumer Electronics' 'Consumer Electronics' 'Consumer Electronics'\n",
            " 'Console & Video Games' 'Console & Video Games' 'Console & Video Games'\n",
            " 'Console & Video Games' 'Console & Video Games' 'Console & Video Games'\n",
            " 'Console & Video Games' 'Console & Video Games' 'Console & Video Games'\n",
            " 'Console & Video Games' 'Console & Video Games' 'Console & Video Games'\n",
            " 'Console & Video Games' 'Console & Video Games' 'Console & Video Games'\n",
            " 'DIY & Tools' 'DIY & Tools' 'DIY & Tools' 'DIY & Tools' 'DIY & Tools'\n",
            " 'DIY & Tools' 'DIY & Tools' 'DIY & Tools' 'DIY & Tools' 'DIY & Tools'\n",
            " 'DIY & Tools' 'DIY & Tools' 'DIY & Tools' 'DIY & Tools' 'DIY & Tools'\n",
            " 'Garden & Outdoor living' 'Garden & Outdoor living'\n",
            " 'Garden & Outdoor living' 'Garden & Outdoor living'\n",
            " 'Garden & Outdoor living' 'Garden & Outdoor living'\n",
            " 'Garden & Outdoor living' 'Garden & Outdoor living'\n",
            " 'Garden & Outdoor living' 'Garden & Outdoor living'\n",
            " 'Garden & Outdoor living' 'Garden & Outdoor living'\n",
            " 'Garden & Outdoor living' 'Garden & Outdoor living'\n",
            " 'Garden & Outdoor living' 'Grocery' 'Grocery' 'Grocery' 'Grocery'\n",
            " 'Grocery' 'Grocery' 'Grocery' 'Grocery' 'Grocery' 'Grocery' 'Grocery'\n",
            " 'Grocery' 'Grocery' 'Grocery' 'Grocery']\n"
          ]
        }
      ]
    },
    {
      "cell_type": "code",
      "source": [
        "X_train, X_test, y_train, y_test  = train_test_split(text_data, class_data, test_size=0.2, random_state=42)"
      ],
      "metadata": {
        "id": "Z6fNMWaagvOT"
      },
      "execution_count": null,
      "outputs": []
    },
    {
      "cell_type": "code",
      "source": [
        "type(X_train)"
      ],
      "metadata": {
        "colab": {
          "base_uri": "https://localhost:8080/"
        },
        "id": "-LbV8zbxlhhP",
        "outputId": "2a18e40d-22d1-400d-cffc-eb662c705f75"
      },
      "execution_count": null,
      "outputs": [
        {
          "output_type": "execute_result",
          "data": {
            "text/plain": [
              "numpy.ndarray"
            ]
          },
          "metadata": {},
          "execution_count": 8
        }
      ]
    },
    {
      "cell_type": "code",
      "source": [
        "print(X_train[0])"
      ],
      "metadata": {
        "colab": {
          "base_uri": "https://localhost:8080/"
        },
        "id": "kePy_KMNgxHA",
        "outputId": "b3b5058b-6891-473c-d160-2ed888980582"
      },
      "execution_count": null,
      "outputs": [
        {
          "output_type": "stream",
          "name": "stdout",
          "text": [
            "option available blackdecker pad1200auto flexi car vacuum12 v blackdecker prime get saturday aug buying choice new offer used offer eligible free uk delivery\n"
          ]
        }
      ]
    },
    {
      "cell_type": "code",
      "source": [
        "print(y_train[0])"
      ],
      "metadata": {
        "colab": {
          "base_uri": "https://localhost:8080/"
        },
        "id": "1yolDcnQg8wN",
        "outputId": "61baa003-1890-4cb6-fa62-b54f941a8786"
      },
      "execution_count": null,
      "outputs": [
        {
          "output_type": "stream",
          "name": "stdout",
          "text": [
            "Automotive\n"
          ]
        }
      ]
    },
    {
      "cell_type": "code",
      "source": [
        "\n",
        "vectorizer = TfidfVectorizer()\n",
        "X_train = vectorizer.fit_transform(X_train)\n",
        "X_test = vectorizer.transform(X_test)"
      ],
      "metadata": {
        "id": "zmYbPt0ihX0i"
      },
      "execution_count": null,
      "outputs": []
    },
    {
      "cell_type": "code",
      "source": [
        "\n",
        "print(X_train.shape)\n",
        "print(y_train.shape)"
      ],
      "metadata": {
        "colab": {
          "base_uri": "https://localhost:8080/"
        },
        "id": "F1FtuMMOiBx5",
        "outputId": "0ae906e3-10f0-4ad2-d6f5-132a6b38204b"
      },
      "execution_count": null,
      "outputs": [
        {
          "output_type": "stream",
          "name": "stdout",
          "text": [
            "(120, 874)\n",
            "(120,)\n"
          ]
        }
      ]
    },
    {
      "cell_type": "code",
      "source": [
        "print(X_train[0])"
      ],
      "metadata": {
        "colab": {
          "base_uri": "https://localhost:8080/"
        },
        "id": "ye9G89yHhh4v",
        "outputId": "bc063e85-6844-4b11-857f-0dbac47b8eef"
      },
      "execution_count": null,
      "outputs": [
        {
          "output_type": "stream",
          "name": "stdout",
          "text": [
            "  (0, 197)\t0.11590659758101036\n",
            "  (0, 763)\t0.13937976473311908\n",
            "  (0, 296)\t0.11738254225685568\n",
            "  (0, 244)\t0.14670225224312042\n",
            "  (0, 776)\t0.20978148305685107\n",
            "  (0, 516)\t0.27875952946623817\n",
            "  (0, 501)\t0.1272350821758552\n",
            "  (0, 150)\t0.14414601009543626\n",
            "  (0, 126)\t0.14414601009543626\n",
            "  (0, 57)\t0.16177465569272992\n",
            "  (0, 636)\t0.23102484258239164\n",
            "  (0, 321)\t0.15839331663209147\n",
            "  (0, 583)\t0.14670225224312042\n",
            "  (0, 778)\t0.26734060555754174\n",
            "  (0, 133)\t0.19470907960724157\n",
            "  (0, 288)\t0.26734060555754174\n",
            "  (0, 542)\t0.26734060555754174\n",
            "  (0, 97)\t0.5346812111150835\n",
            "  (0, 60)\t0.20978148305685107\n",
            "  (0, 530)\t0.20978148305685107\n"
          ]
        }
      ]
    },
    {
      "cell_type": "code",
      "source": [
        "\n",
        "clf = LinearSVC()\n",
        "clf.fit(X_train, y_train)\n",
        "\n",
        "\n",
        "y_pred = clf.predict(X_test)"
      ],
      "metadata": {
        "id": "VI0FYwTHXpQE"
      },
      "execution_count": null,
      "outputs": []
    },
    {
      "cell_type": "code",
      "source": [
        "print(X_test)"
      ],
      "metadata": {
        "colab": {
          "base_uri": "https://localhost:8080/"
        },
        "id": "2YWdANoUi5Vp",
        "outputId": "bd8a5b90-8f50-472f-f574-720b8bb4d2ba"
      },
      "execution_count": null,
      "outputs": [
        {
          "output_type": "stream",
          "name": "stdout",
          "text": [
            "  (0, 671)\t0.4351335894975841\n",
            "  (0, 527)\t0.421342808536736\n",
            "  (0, 124)\t0.7956940347805326\n",
            "  (1, 710)\t0.27508212281898936\n",
            "  (1, 547)\t0.7181248183701961\n",
            "  (1, 527)\t0.27508212281898936\n",
            "  (1, 504)\t0.33707137278754795\n",
            "  (1, 296)\t0.17126424248379246\n",
            "  (1, 197)\t0.16911080005533055\n",
            "  (1, 189)\t0.2840857114057186\n",
            "  (1, 133)\t0.2840857114057186\n",
            "  (2, 492)\t1.0\n",
            "  (3, 797)\t0.3822666575569024\n",
            "  (3, 733)\t0.3822666575569024\n",
            "  (3, 722)\t0.41526429638481527\n",
            "  (3, 605)\t0.2842847129670404\n",
            "  (3, 516)\t0.21650074372904027\n",
            "  (3, 411)\t0.41526429638481527\n",
            "  (3, 321)\t0.24603478789205277\n",
            "  (3, 191)\t0.3133117013408875\n",
            "  (3, 124)\t0.2765281617202989\n",
            "  (4, 757)\t0.7385150195774663\n",
            "  (4, 603)\t0.38893990143223195\n",
            "  (4, 527)\t0.31741174828994334\n",
            "  (4, 441)\t0.4500789941553612\n",
            "  :\t:\n",
            "  (23, 109)\t0.4967946924647331\n",
            "  (23, 57)\t0.3006232074467246\n",
            "  (24, 656)\t0.7938188070394934\n",
            "  (24, 631)\t0.6081543402709508\n",
            "  (26, 763)\t0.1703958825512847\n",
            "  (26, 744)\t0.2564640643269479\n",
            "  (26, 605)\t0.22374493374712542\n",
            "  (26, 582)\t0.23049342933814743\n",
            "  (26, 544)\t0.6017223161677392\n",
            "  (26, 527)\t0.23049342933814743\n",
            "  (26, 452)\t0.3008611580838696\n",
            "  (26, 411)\t0.3268317930726701\n",
            "  (26, 124)\t0.43528035382258495\n",
            "  (27, 190)\t1.0\n",
            "  (28, 135)\t0.9105453794944524\n",
            "  (28, 68)\t0.4134091337661805\n",
            "  (29, 767)\t0.45554471696127924\n",
            "  (29, 501)\t0.21680683103289228\n",
            "  (29, 306)\t0.22777235848063962\n",
            "  (29, 261)\t0.41934632434453867\n",
            "  (29, 191)\t0.17185138663562033\n",
            "  (29, 189)\t0.33178159514709693\n",
            "  (29, 156)\t0.22777235848063962\n",
            "  (29, 71)\t0.19683157802709406\n",
            "  (29, 68)\t0.5361971451561712\n"
          ]
        }
      ]
    },
    {
      "cell_type": "code",
      "source": [
        "\n",
        "print(y_pred.shape)\n",
        "print(y_pred)"
      ],
      "metadata": {
        "colab": {
          "base_uri": "https://localhost:8080/"
        },
        "id": "zT04XPV3Xpd8",
        "outputId": "8fd1a036-632e-45e1-99e6-3e0c43f32f5f"
      },
      "execution_count": null,
      "outputs": [
        {
          "output_type": "stream",
          "name": "stdout",
          "text": [
            "(30,)\n",
            "['Media (BMVD)' 'Automotive' 'Clothing & Shoes' 'Automotive'\n",
            " 'Consumer Electronics' 'Baby Products' 'Clothing & Shoes' 'DIY & Tools'\n",
            " 'Media (BMVD)' 'Media (BMVD)' 'DIY & Tools' 'Clothing & Shoes'\n",
            " 'Baby Products' 'Console & Video Games' 'Automotive'\n",
            " 'Consumer Electronics' 'Console & Video Games' 'Media (BMVD)' 'Grocery'\n",
            " 'Console & Video Games' 'DIY & Tools' 'Garden & Outdoor living'\n",
            " 'Automotive' 'Baby Products' 'Consumer Electronics' 'Clothing & Shoes'\n",
            " 'DIY & Tools' 'Health & Beauty' 'Baby Products' 'Baby Products']\n"
          ]
        }
      ]
    },
    {
      "cell_type": "code",
      "source": [
        "X_test2=['video game ']\n",
        "X_test2 = vectorizer.transform(X_test2)"
      ],
      "metadata": {
        "id": "rHElQJkvkRia"
      },
      "execution_count": null,
      "outputs": []
    },
    {
      "cell_type": "code",
      "source": [
        "y_pred2 = clf.predict(X_test2)\n",
        "print(y_pred2.shape)\n",
        "print(y_pred2)"
      ],
      "metadata": {
        "colab": {
          "base_uri": "https://localhost:8080/"
        },
        "id": "Y6YxJkeSjore",
        "outputId": "766f2612-2162-4b62-a10d-cd5ab0b5aae3"
      },
      "execution_count": null,
      "outputs": [
        {
          "output_type": "stream",
          "name": "stdout",
          "text": [
            "(1,)\n",
            "['Console & Video Games']\n"
          ]
        }
      ]
    },
    {
      "cell_type": "code",
      "source": [],
      "metadata": {
        "id": "058-HSFonp1i"
      },
      "execution_count": null,
      "outputs": []
    }
  ]
}